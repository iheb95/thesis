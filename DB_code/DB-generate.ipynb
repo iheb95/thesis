{
 "cells": [
  {
   "cell_type": "code",
   "execution_count": 87,
   "metadata": {},
   "outputs": [],
   "source": [
    "from PIL import Image, ImageDraw, ImageFont\n",
    "import random\n",
    "import string"
   ]
  },
  {
   "cell_type": "code",
   "execution_count": 88,
   "metadata": {},
   "outputs": [],
   "source": [
    "# Variables\n",
    "DBsize = 1000\n",
    "HRImgWidth = 200\n",
    "HRImgHeight = 50\n",
    "LRImgWidth = 40\n",
    "LRImgHeight = 10\n",
    "fontSize = 30\n",
    "textVerticalAlign = 15\n",
    "textHorizontalAlign = 10"
   ]
  },
  {
   "cell_type": "code",
   "execution_count": 89,
   "metadata": {},
   "outputs": [],
   "source": [
    "# Generate random string funcion\n",
    "def randomString(stringLength=10):\n",
    "    letters = string.digits\n",
    "    return ''.join(random.choice(letters) for i in range(stringLength))"
   ]
  },
  {
   "cell_type": "code",
   "execution_count": 91,
   "metadata": {},
   "outputs": [],
   "source": [
    "# Generate DB\n",
    "for j in range(DBsize):\n",
    "    # Create HR Image\n",
    "    img = Image.new('RGB', (imgWidth, imgHeight), color = 'white')\n",
    "    fnt = ImageFont.truetype('Arial.ttf', fontSize)\n",
    "    d = ImageDraw.Draw(img)\n",
    "    d.text((textVerticalAlign,textHorizontalAlign), randomString(), font=fnt, fill='black')\n",
    "    img.save('DB/HR_Image' + str(j) + '.png')\n",
    "    # Create LR image\n",
    "    img = img.resize((LRImgWidth, LRImgHeight), Image.ANTIALIAS)\n",
    "    img.save('DB/LR_Image' + str(j) + '.jpg')"
   ]
  }
 ],
 "metadata": {
  "kernelspec": {
   "display_name": "Python 3",
   "language": "python",
   "name": "python3"
  },
  "language_info": {
   "codemirror_mode": {
    "name": "ipython",
    "version": 3
   },
   "file_extension": ".py",
   "mimetype": "text/x-python",
   "name": "python",
   "nbconvert_exporter": "python",
   "pygments_lexer": "ipython3",
   "version": "3.6.6"
  }
 },
 "nbformat": 4,
 "nbformat_minor": 2
}
